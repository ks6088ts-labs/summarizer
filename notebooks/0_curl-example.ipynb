{
 "cells": [
  {
   "cell_type": "code",
   "execution_count": 1,
   "id": "47a52c55-e486-4d48-b514-3a3fa31b1b66",
   "metadata": {},
   "outputs": [
    {
     "name": "stdout",
     "output_type": "stream",
     "text": [
      "{\"output\":{\"content\":\"QSTはサルを用いてセロトニン不足の影響を調査し、報酬効果の低下と億劫感の上昇を発見。この研究は『Plos Biology』で2024年1月1日に発表された。セロトニンの不足は不安や意欲低下の原因の一つだが、その仕組みは分かっていなかった。\",\"additional_kwargs\":{},\"type\":\"ai\",\"example\":false},\"callback_events\":[],\"metadata\":{\"run_id\":\"a2dc271d-531e-4fcf-a6f8-f48ed2aec1de\"}}"
     ]
    }
   ],
   "source": [
    "! curl 'http://localhost:8888/azure_openai/invoke' \\\n",
    "  -H 'Content-Type: application/json' \\\n",
    "  --data-raw '{\"input\":{\"topic\":\"「セロトニン」は気分や覚醒リズムに関わる脳内の神経伝達物質です。セロトニンの不足は不安や意欲低下を引き起こす原因の一つとなっていますが、その詳しい仕組みまでは分かっていませんでした。しかし量子科学技術研究開発機構（QST）は今回、サルを実験対象にセロトニン不足で意欲低下が生じる仕組みを調査。その結果、サルの脳内セロトニンレベルを下げると、ご褒美を期待することでやる気が高まる「報酬効果」が低下し、さらに課題クリアにかかるコストに敏感になり、行動したくないという「億劫感」が上昇することが判明しました。研究の詳細は、2024年1月1日付で科学雑誌『Plos Biology』に掲載されています。\"},\"config\":{}}'"
   ]
  },
  {
   "cell_type": "code",
   "execution_count": null,
   "id": "eed8b99a-0b3c-490f-8309-d3b0cc08a5a7",
   "metadata": {},
   "outputs": [],
   "source": []
  }
 ],
 "metadata": {
  "kernelspec": {
   "display_name": "Python 3 (ipykernel)",
   "language": "python",
   "name": "python3"
  },
  "language_info": {
   "codemirror_mode": {
    "name": "ipython",
    "version": 3
   },
   "file_extension": ".py",
   "mimetype": "text/x-python",
   "name": "python",
   "nbconvert_exporter": "python",
   "pygments_lexer": "ipython3",
   "version": "3.10.12"
  }
 },
 "nbformat": 4,
 "nbformat_minor": 5
}
