{
 "cells": [
  {
   "cell_type": "code",
   "execution_count": null,
   "id": "8ebff454-ef41-466d-bfa7-4f2620d9deff",
   "metadata": {},
   "outputs": [],
   "source": [
    "import pandas as pd"
   ]
  },
  {
   "cell_type": "code",
   "execution_count": null,
   "id": "c832c2bc-c4eb-482c-8e04-bc98b37e2857",
   "metadata": {},
   "outputs": [],
   "source": [
    "path_to_files = [\n",
    "    \"../data/test0.csv\",\n",
    "    \"../data/test1.csv\",\n",
    "    \"../data/test2.csv\",\n",
    "]\n",
    "\n",
    "df = pd.read_csv(path_to_files[1])"
   ]
  },
  {
   "cell_type": "code",
   "execution_count": null,
   "id": "77292f1e-aec2-4184-954e-82c093e5d0b1",
   "metadata": {},
   "outputs": [],
   "source": [
    "df.head()"
   ]
  },
  {
   "cell_type": "code",
   "execution_count": null,
   "id": "a1e7cb8f-aa8a-4df7-abf1-4a9f958f6c41",
   "metadata": {},
   "outputs": [],
   "source": [
    "# extract unique values\n",
    "target_columns = [\n",
    "    \"SalesCompany\",\n",
    "    \"Rating\",\n",
    "    \"Model\",\n",
    "    \"Recommend\",    \n",
    "]\n",
    "for c in df.columns:\n",
    "    if not c in target_columns:\n",
    "        continue\n",
    "    print(f\"{c}: {df[c].unique()}\")"
   ]
  },
  {
   "cell_type": "code",
   "execution_count": null,
   "id": "1048cde9-1481-496a-a20f-0e3824753327",
   "metadata": {},
   "outputs": [],
   "source": [
    "# analyze negative rarings\n",
    "query = 'Rating == \"ネガティブ\"'\n",
    "negative_percentage = 100 * len(df.query(query)) / len(df)\n",
    "print(f\"# of negative ratings[%]: {negative_percentage}\")"
   ]
  },
  {
   "cell_type": "code",
   "execution_count": null,
   "id": "3145e993-dd87-48f9-9ce3-9e8d829103d7",
   "metadata": {},
   "outputs": [],
   "source": [
    "# extract unique vector\n",
    "sales_companies = df[\"SalesCompany\"].unique()\n",
    "sales_companies"
   ]
  },
  {
   "cell_type": "code",
   "execution_count": null,
   "id": "d4549acc-2da8-4812-bf3c-af67532ccf49",
   "metadata": {},
   "outputs": [],
   "source": [
    "# query data to get positive ratings\n",
    "sales_company = sales_companies[0]\n",
    "q = f\"SalesCompany == \\\"{sales_company}\\\" & Rating == \\\"ポジティブ\\\"\"\n",
    "print(f\"SalesCompany: {sales_company} ---\")\n",
    "df.query(q)"
   ]
  },
  {
   "cell_type": "code",
   "execution_count": null,
   "id": "a8c37f34-542d-4ed4-ba72-43a16cb3e5e8",
   "metadata": {},
   "outputs": [],
   "source": []
  }
 ],
 "metadata": {
  "kernelspec": {
   "display_name": "Python 3 (ipykernel)",
   "language": "python",
   "name": "python3"
  },
  "language_info": {
   "codemirror_mode": {
    "name": "ipython",
    "version": 3
   },
   "file_extension": ".py",
   "mimetype": "text/x-python",
   "name": "python",
   "nbconvert_exporter": "python",
   "pygments_lexer": "ipython3",
   "version": "3.10.12"
  }
 },
 "nbformat": 4,
 "nbformat_minor": 5
}
